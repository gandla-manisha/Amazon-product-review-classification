{
 "cells": [
  {
   "cell_type": "markdown",
   "id": "3595ae0c-0ab3-40e7-a233-412e6fb35306",
   "metadata": {},
   "source": [
    "## Exploratory Data Analysis (EDA):\n",
    "Exploratory Data Analysis (EDA) is the process of analyzing and summarizing datasets to understand their main characteristics, often with the help of visualizations."
   ]
  },
  {
   "cell_type": "code",
   "execution_count": 1,
   "id": "31f9a653-e2c3-4c24-a2f0-592c8c76bcd5",
   "metadata": {},
   "outputs": [
    {
     "data": {
      "text/html": [
       "<div>\n",
       "<style scoped>\n",
       "    .dataframe tbody tr th:only-of-type {\n",
       "        vertical-align: middle;\n",
       "    }\n",
       "\n",
       "    .dataframe tbody tr th {\n",
       "        vertical-align: top;\n",
       "    }\n",
       "\n",
       "    .dataframe thead th {\n",
       "        text-align: right;\n",
       "    }\n",
       "</style>\n",
       "<table border=\"1\" class=\"dataframe\">\n",
       "  <thead>\n",
       "    <tr style=\"text-align: right;\">\n",
       "      <th></th>\n",
       "      <th>Product Name</th>\n",
       "      <th>Brand Name</th>\n",
       "      <th>Price</th>\n",
       "      <th>Rating</th>\n",
       "      <th>Reviews</th>\n",
       "      <th>Review Votes</th>\n",
       "    </tr>\n",
       "  </thead>\n",
       "  <tbody>\n",
       "    <tr>\n",
       "      <th>0</th>\n",
       "      <td>\"CLEAR CLEAN ESN\" Sprint EPIC 4G Galaxy SPH-D7...</td>\n",
       "      <td>Samsung</td>\n",
       "      <td>199.99</td>\n",
       "      <td>5</td>\n",
       "      <td>I feel so LUCKY to have found this used (phone...</td>\n",
       "      <td>1.0</td>\n",
       "    </tr>\n",
       "    <tr>\n",
       "      <th>1</th>\n",
       "      <td>\"CLEAR CLEAN ESN\" Sprint EPIC 4G Galaxy SPH-D7...</td>\n",
       "      <td>Samsung</td>\n",
       "      <td>199.99</td>\n",
       "      <td>4</td>\n",
       "      <td>nice phone, nice up grade from my pantach revu...</td>\n",
       "      <td>0.0</td>\n",
       "    </tr>\n",
       "    <tr>\n",
       "      <th>2</th>\n",
       "      <td>\"CLEAR CLEAN ESN\" Sprint EPIC 4G Galaxy SPH-D7...</td>\n",
       "      <td>Samsung</td>\n",
       "      <td>199.99</td>\n",
       "      <td>5</td>\n",
       "      <td>Very pleased</td>\n",
       "      <td>0.0</td>\n",
       "    </tr>\n",
       "    <tr>\n",
       "      <th>3</th>\n",
       "      <td>\"CLEAR CLEAN ESN\" Sprint EPIC 4G Galaxy SPH-D7...</td>\n",
       "      <td>Samsung</td>\n",
       "      <td>199.99</td>\n",
       "      <td>4</td>\n",
       "      <td>It works good but it goes slow sometimes but i...</td>\n",
       "      <td>0.0</td>\n",
       "    </tr>\n",
       "    <tr>\n",
       "      <th>4</th>\n",
       "      <td>\"CLEAR CLEAN ESN\" Sprint EPIC 4G Galaxy SPH-D7...</td>\n",
       "      <td>Samsung</td>\n",
       "      <td>199.99</td>\n",
       "      <td>4</td>\n",
       "      <td>Great phone to replace my lost phone. The only...</td>\n",
       "      <td>0.0</td>\n",
       "    </tr>\n",
       "  </tbody>\n",
       "</table>\n",
       "</div>"
      ],
      "text/plain": [
       "                                        Product Name Brand Name   Price  \\\n",
       "0  \"CLEAR CLEAN ESN\" Sprint EPIC 4G Galaxy SPH-D7...    Samsung  199.99   \n",
       "1  \"CLEAR CLEAN ESN\" Sprint EPIC 4G Galaxy SPH-D7...    Samsung  199.99   \n",
       "2  \"CLEAR CLEAN ESN\" Sprint EPIC 4G Galaxy SPH-D7...    Samsung  199.99   \n",
       "3  \"CLEAR CLEAN ESN\" Sprint EPIC 4G Galaxy SPH-D7...    Samsung  199.99   \n",
       "4  \"CLEAR CLEAN ESN\" Sprint EPIC 4G Galaxy SPH-D7...    Samsung  199.99   \n",
       "\n",
       "   Rating                                            Reviews  Review Votes  \n",
       "0       5  I feel so LUCKY to have found this used (phone...           1.0  \n",
       "1       4  nice phone, nice up grade from my pantach revu...           0.0  \n",
       "2       5                                       Very pleased           0.0  \n",
       "3       4  It works good but it goes slow sometimes but i...           0.0  \n",
       "4       4  Great phone to replace my lost phone. The only...           0.0  "
      ]
     },
     "execution_count": 1,
     "metadata": {},
     "output_type": "execute_result"
    }
   ],
   "source": [
    "import numpy as np\n",
    "import pandas as pd\n",
    "import sklearn\n",
    "# Load the dataset\n",
    "df=pd.read_csv(r'C:\\Users\\gandl\\Downloads\\amazon-reviews-unlocked-mobile-phones\\Amazon_Unlocked_Mobile.csv')\n",
    "# Check the first few rows to understand the structure of the dataset\n",
    "df.head()"
   ]
  },
  {
   "cell_type": "code",
   "execution_count": 2,
   "id": "f0892c53-6e08-48bd-bc46-6336e679c8b9",
   "metadata": {},
   "outputs": [
    {
     "data": {
      "text/plain": [
       "Rating\n",
       "5    223605\n",
       "1     72350\n",
       "4     61392\n",
       "3     31765\n",
       "2     24728\n",
       "Name: count, dtype: int64"
      ]
     },
     "execution_count": 2,
     "metadata": {},
     "output_type": "execute_result"
    }
   ],
   "source": [
    "df['Rating'].value_counts()"
   ]
  },
  {
   "cell_type": "code",
   "execution_count": 3,
   "id": "4e0afd13-abf2-4a11-8b7f-f96dbf166716",
   "metadata": {},
   "outputs": [
    {
     "data": {
      "text/plain": [
       "(413840, 6)"
      ]
     },
     "execution_count": 3,
     "metadata": {},
     "output_type": "execute_result"
    }
   ],
   "source": [
    "df.shape"
   ]
  },
  {
   "cell_type": "code",
   "execution_count": 4,
   "id": "0d92e49f-2d3c-438f-b4b5-e55005108fcc",
   "metadata": {},
   "outputs": [
    {
     "name": "stdout",
     "output_type": "stream",
     "text": [
      "<class 'pandas.core.frame.DataFrame'>\n",
      "RangeIndex: 413840 entries, 0 to 413839\n",
      "Data columns (total 6 columns):\n",
      " #   Column        Non-Null Count   Dtype  \n",
      "---  ------        --------------   -----  \n",
      " 0   Product Name  413840 non-null  object \n",
      " 1   Brand Name    348669 non-null  object \n",
      " 2   Price         407907 non-null  float64\n",
      " 3   Rating        413840 non-null  int64  \n",
      " 4   Reviews       413770 non-null  object \n",
      " 5   Review Votes  401544 non-null  float64\n",
      "dtypes: float64(2), int64(1), object(3)\n",
      "memory usage: 18.9+ MB\n",
      "None\n"
     ]
    }
   ],
   "source": [
    "# Get basic information about the dataset\n",
    "print(df.info())"
   ]
  },
  {
   "cell_type": "markdown",
   "id": "1a144cb0-fd02-4a31-9f6c-256c83491038",
   "metadata": {},
   "source": [
    "## Finding Missing Values\n",
    "Refers to one of the statistical measures of central tendency that represents the average of a dataset."
   ]
  },
  {
   "cell_type": "code",
   "execution_count": 5,
   "id": "6bc04c2b-cb9c-4100-9ab0-0eac9513c719",
   "metadata": {},
   "outputs": [
    {
     "name": "stdout",
     "output_type": "stream",
     "text": [
      "Product Name        0\n",
      "Brand Name      65171\n",
      "Price            5933\n",
      "Rating              0\n",
      "Reviews            70\n",
      "Review Votes    12296\n",
      "dtype: int64\n"
     ]
    }
   ],
   "source": [
    "# Check for any missing values\n",
    "print(df.isnull().sum())"
   ]
  },
  {
   "cell_type": "code",
   "execution_count": 6,
   "id": "3402d3f5-48b8-4b34-9d1a-6ba5d92f3444",
   "metadata": {},
   "outputs": [
    {
     "name": "stdout",
     "output_type": "stream",
     "text": [
      "[\"I feel so LUCKY to have found this used (phone to us & not used hard at all), phone on line from someone who upgraded and sold this one. My Son liked his old one that finally fell apart after 2.5+ years and didn't want an upgrade!! Thank you Seller, we really appreciate it & your honesty re: said used phone.I recommend this seller very highly & would but from them again!!\"\n",
      " 'nice phone, nice up grade from my pantach revue. Very clean set up and easy set up. never had an android phone but they are fantastic to say the least. perfect size for surfing and social media. great phone samsung'\n",
      " 'Very pleased' ...\n",
      " \"Pros...Works great, very durable, easy to navigate, speaker is fantastic!Only negative is that flip phones just aren't for me.\"\n",
      " 'just as described perfect for the price'\n",
      " \"Speaker phone doesn't work, but phone works good\"]\n"
     ]
    }
   ],
   "source": [
    "# Check unique values in 'Reviews' column to see if it contains any unexpected text or mixed types\n",
    "print(df['Reviews'].unique())"
   ]
  },
  {
   "cell_type": "markdown",
   "id": "72998cc2-0059-4667-90ee-e08462f6ef02",
   "metadata": {},
   "source": [
    "## Handling Missing Values\n"
   ]
  },
  {
   "cell_type": "code",
   "execution_count": 7,
   "id": "b5228b8c-ccf9-4643-a847-6e129e9be694",
   "metadata": {},
   "outputs": [
    {
     "name": "stdout",
     "output_type": "stream",
     "text": [
      "Product Name    0\n",
      "Brand Name      0\n",
      "Price           0\n",
      "Rating          0\n",
      "Reviews         0\n",
      "Review Votes    0\n",
      "dtype: int64\n"
     ]
    }
   ],
   "source": [
    "# Convert the 'Reviews' column to a string type before filling missing values\n",
    "df['Reviews'] = df['Reviews'].astype(str)\n",
    "\n",
    "# Fill missing values\n",
    "df['Brand Name'] = df['Brand Name'].fillna('Unknown')\n",
    "df['Price'] = df['Price'].fillna(df['Price'].median())\n",
    "df['Reviews'] = df['Reviews'].fillna('No Review')\n",
    "df['Review Votes'] = df['Review Votes'].fillna(df['Review Votes'].median())\n",
    "\n",
    "# Verify that missing values have been handled\n",
    "print(df.isnull().sum())"
   ]
  },
  {
   "cell_type": "markdown",
   "id": "2d914d34-89fc-4b48-b221-f99ebbb5dd8f",
   "metadata": {},
   "source": [
    "# Standardization of data:\n",
    "##### is a preprocessing step in machine learning that involves transforming data to have a mean of 0 and a standard deviation of 1. "
   ]
  },
  {
   "cell_type": "code",
   "execution_count": 8,
   "id": "90e38f14-0114-485c-81b6-c62ea4be2804",
   "metadata": {},
   "outputs": [
    {
     "name": "stdout",
     "output_type": "stream",
     "text": [
      "      Price  Review Votes\n",
      "0 -0.094755     -0.051211\n",
      "1 -0.094755     -0.161950\n",
      "2 -0.094755     -0.161950\n",
      "3 -0.094755     -0.161950\n",
      "4 -0.094755     -0.161950\n"
     ]
    }
   ],
   "source": [
    "from sklearn.preprocessing import StandardScaler\n",
    "\n",
    "# Initialize the scaler\n",
    "scaler = StandardScaler()\n",
    "\n",
    "# Apply standardization to numerical columns\n",
    "df[['Price', 'Review Votes']] = scaler.fit_transform(df[['Price', 'Review Votes']])\n",
    "print(df[['Price', 'Review Votes']].head())"
   ]
  },
  {
   "cell_type": "markdown",
   "id": "9c07cb01-c770-4515-8b4b-342b195be8e4",
   "metadata": {},
   "source": [
    "# Removing Outliers: \n",
    "#### Using the IQR method, rows with outliers are removed."
   ]
  },
  {
   "cell_type": "code",
   "execution_count": 9,
   "id": "0f8060be-be7a-4082-9029-cd66f161e016",
   "metadata": {},
   "outputs": [
    {
     "name": "stdout",
     "output_type": "stream",
     "text": [
      "Original data shape: (413840, 6)\n",
      "Cleaned data shape: (342268, 6)\n"
     ]
    }
   ],
   "source": [
    "import pandas as pd\n",
    "\n",
    "# Sample DataFrame (replace with your actual DataFrame)\n",
    "# df = pd.read_csv('your_dataset.csv')  # Load your data\n",
    "\n",
    "# Calculate the Q1 (25th percentile) and Q3 (75th percentile)\n",
    "Q1 = df[['Price', 'Review Votes']].quantile(0.25)\n",
    "Q3 = df[['Price', 'Review Votes']].quantile(0.75)\n",
    "\n",
    "# Calculate the IQR (Interquartile Range)\n",
    "IQR = Q3 - Q1\n",
    "\n",
    "# Remove rows where any of the values are outside the IQR\n",
    "df_cleaned = df[~((df[['Price', 'Review Votes']] < (Q1 - 1.5 * IQR)) | \n",
    "                  (df[['Price', 'Review Votes']] > (Q3 + 1.5 * IQR))).any(axis=1)]\n",
    "\n",
    "# Display the cleaned DataFrame\n",
    "print(f\"Original data shape: {df.shape}\")\n",
    "print(f\"Cleaned data shape: {df_cleaned.shape}\")\n"
   ]
  },
  {
   "cell_type": "markdown",
   "id": "490c20e5-0239-4fb3-b3f6-d24e1e8e9937",
   "metadata": {},
   "source": [
    "# Capping Outliers:\n",
    "#### You can cap values to the maximum or minimum threshold, making extreme values more manageable."
   ]
  },
  {
   "cell_type": "code",
   "execution_count": 10,
   "id": "b722136c-d0c3-4bc0-a108-fd635d510701",
   "metadata": {},
   "outputs": [
    {
     "name": "stdout",
     "output_type": "stream",
     "text": [
      "Data after capping outliers:\n",
      "               Price   Review Votes\n",
      "count  413840.000000  413840.000000\n",
      "mean       -0.100586      -0.105652\n",
      "std         0.587328       0.095795\n",
      "min        -0.825755      -0.161950\n",
      "25%        -0.537204      -0.161950\n",
      "50%        -0.298577      -0.161950\n",
      "75%         0.160058      -0.051211\n",
      "max         1.205952       0.114896\n"
     ]
    }
   ],
   "source": [
    "# Capping the outliers\n",
    "df['Price'] = df['Price'].clip(lower=Q1['Price'] - 1.5 * IQR['Price'], \n",
    "                                upper=Q3['Price'] + 1.5 * IQR['Price'])\n",
    "\n",
    "df['Review Votes'] = df['Review Votes'].clip(lower=Q1['Review Votes'] - 1.5 * IQR['Review Votes'],\n",
    "                                               upper=Q3['Review Votes'] + 1.5 * IQR['Review Votes'])\n",
    "\n",
    "# Display the capped DataFrame\n",
    "print(f\"Data after capping outliers:\\n{df[['Price', 'Review Votes']].describe()}\")\n"
   ]
  },
  {
   "cell_type": "markdown",
   "id": "c3f47f40-19f4-4eef-b9ac-f7b26012e028",
   "metadata": {},
   "source": [
    "# Feature Engineering: \n",
    "#### Add a New Feature - Review Length"
   ]
  },
  {
   "cell_type": "code",
   "execution_count": 11,
   "id": "c4fb2a5b-064a-43d3-8ec3-29492b35a369",
   "metadata": {},
   "outputs": [
    {
     "name": "stdout",
     "output_type": "stream",
     "text": [
      "                                             Reviews  Review Length\n",
      "0  I feel so LUCKY to have found this used (phone...             72\n",
      "1  nice phone, nice up grade from my pantach revu...             40\n",
      "2                                       Very pleased              2\n",
      "3  It works good but it goes slow sometimes but i...             17\n",
      "4  Great phone to replace my lost phone. The only...             43\n"
     ]
    }
   ],
   "source": [
    "df['Review Length'] = df['Reviews'].apply(lambda x: len(x.split()))\n",
    "\n",
    "# Display the first few rows of the dataset\n",
    "print(df[['Reviews', 'Review Length']].head())"
   ]
  },
  {
   "cell_type": "markdown",
   "id": "e4c1973d-1d8c-4905-be2f-1aa56c89bc6f",
   "metadata": {},
   "source": [
    "#### Add a New Feature - Character Count"
   ]
  },
  {
   "cell_type": "code",
   "execution_count": 12,
   "id": "d1f907d5-94e5-4a08-95ef-deadb19d5408",
   "metadata": {},
   "outputs": [
    {
     "name": "stdout",
     "output_type": "stream",
     "text": [
      "                                             Reviews  Character Count\n",
      "0  I feel so LUCKY to have found this used (phone...              374\n",
      "1  nice phone, nice up grade from my pantach revu...              214\n",
      "2                                       Very pleased               12\n",
      "3  It works good but it goes slow sometimes but i...               76\n",
      "4  Great phone to replace my lost phone. The only...              223\n"
     ]
    }
   ],
   "source": [
    "# Add a new column for character count\n",
    "df['Character Count'] = df['Reviews'].apply(len)\n",
    "\n",
    "# Display the first few rows\n",
    "print(df[['Reviews', 'Character Count']].head())"
   ]
  },
  {
   "cell_type": "markdown",
   "id": "d98bdc45-4a9d-4d46-aad7-c54b11c6aeaa",
   "metadata": {},
   "source": [
    "#### Convert Reviews to Lowercase"
   ]
  },
  {
   "cell_type": "code",
   "execution_count": 13,
   "id": "10f3e9cb-8289-48a4-82c2-3b48e8f9c6ee",
   "metadata": {},
   "outputs": [
    {
     "name": "stdout",
     "output_type": "stream",
     "text": [
      "                                             Reviews  \\\n",
      "0  I feel so LUCKY to have found this used (phone...   \n",
      "1  nice phone, nice up grade from my pantach revu...   \n",
      "2                                       Very pleased   \n",
      "3  It works good but it goes slow sometimes but i...   \n",
      "4  Great phone to replace my lost phone. The only...   \n",
      "\n",
      "                                     Cleaned Reviews  \n",
      "0  i feel so lucky to have found this used (phone...  \n",
      "1  nice phone, nice up grade from my pantach revu...  \n",
      "2                                       very pleased  \n",
      "3  it works good but it goes slow sometimes but i...  \n",
      "4  great phone to replace my lost phone. the only...  \n"
     ]
    }
   ],
   "source": [
    "# Convert reviews to lowercase\n",
    "df['Cleaned Reviews'] = df['Reviews'].str.lower()\n",
    "\n",
    "# Display the first few rows\n",
    "print(df[['Reviews', 'Cleaned Reviews']].head())"
   ]
  },
  {
   "cell_type": "markdown",
   "id": "b6c9be7d-14cf-49e1-9b10-ef2e9c87dcbb",
   "metadata": {},
   "source": [
    "#### Remove Stopwords"
   ]
  },
  {
   "cell_type": "code",
   "execution_count": 14,
   "id": "ce220e40-8122-48d0-a425-d5a70469767c",
   "metadata": {},
   "outputs": [
    {
     "name": "stderr",
     "output_type": "stream",
     "text": [
      "[nltk_data] Downloading package stopwords to\n",
      "[nltk_data]     C:\\Users\\gandl\\AppData\\Roaming\\nltk_data...\n",
      "[nltk_data]   Package stopwords is already up-to-date!\n",
      "[nltk_data] Downloading package wordnet to\n",
      "[nltk_data]     C:\\Users\\gandl\\AppData\\Roaming\\nltk_data...\n",
      "[nltk_data]   Package wordnet is already up-to-date!\n"
     ]
    },
    {
     "name": "stdout",
     "output_type": "stream",
     "text": [
      "                                             Reviews  \\\n",
      "0  I feel so LUCKY to have found this used (phone...   \n",
      "1  nice phone, nice up grade from my pantach revu...   \n",
      "2                                       Very pleased   \n",
      "3  It works good but it goes slow sometimes but i...   \n",
      "4  Great phone to replace my lost phone. The only...   \n",
      "\n",
      "                                     Cleaned Reviews  \n",
      "0  feel lucky found used (phone us & used hard al...  \n",
      "1  nice phone, nice grade pantach revue. clean se...  \n",
      "2                                            pleased  \n",
      "3     works good goes slow sometimes good phone love  \n",
      "4  great phone replace lost phone. thing volume b...  \n"
     ]
    }
   ],
   "source": [
    "from nltk.corpus import stopwords\n",
    "\n",
    "# Download NLTK stopwords\n",
    "import nltk\n",
    "nltk.download('stopwords')\n",
    "nltk.download('wordnet')\n",
    "# Remove stopwords\n",
    "stop_words = set(stopwords.words('english'))\n",
    "df['Cleaned Reviews'] = df['Cleaned Reviews'].apply(\n",
    "    lambda x: ' '.join([word for word in x.split() if word not in stop_words])\n",
    ")\n",
    "\n",
    "# Display the first few rows\n",
    "print(df[['Reviews', 'Cleaned Reviews']].head())"
   ]
  },
  {
   "cell_type": "markdown",
   "id": "19830a0e-a444-4bf3-bbc9-68e5202fb735",
   "metadata": {},
   "source": [
    "### Tokenization"
   ]
  },
  {
   "cell_type": "code",
   "execution_count": 15,
   "id": "f52b7d67-5067-4bd5-9b58-4aea517a0fbd",
   "metadata": {},
   "outputs": [
    {
     "name": "stdout",
     "output_type": "stream",
     "text": [
      "                                     Cleaned Reviews  \\\n",
      "0  feel lucky found used (phone us & used hard al...   \n",
      "1  nice phone, nice grade pantach revue. clean se...   \n",
      "2                                            pleased   \n",
      "3     works good goes slow sometimes good phone love   \n",
      "4  great phone replace lost phone. thing volume b...   \n",
      "\n",
      "                                   Tokenized Reviews  \n",
      "0  [feel, lucky, found, used, (phone, us, &, used...  \n",
      "1  [nice, phone,, nice, grade, pantach, revue., c...  \n",
      "2                                          [pleased]  \n",
      "3  [works, good, goes, slow, sometimes, good, pho...  \n",
      "4  [great, phone, replace, lost, phone., thing, v...  \n"
     ]
    }
   ],
   "source": [
    "# Tokenize each review\n",
    "df['Tokenized Reviews'] = df['Cleaned Reviews'].apply(lambda x: x.split())\n",
    "\n",
    "# Display the first few rows\n",
    "print(df[['Cleaned Reviews', 'Tokenized Reviews']].head())"
   ]
  },
  {
   "cell_type": "markdown",
   "id": "c9b8145c-7bcf-4ffc-b4fc-c33add4b9125",
   "metadata": {},
   "source": [
    "### Lemmatization"
   ]
  },
  {
   "cell_type": "code",
   "execution_count": 16,
   "id": "e813e322-4188-424e-bff1-ebb81043e636",
   "metadata": {},
   "outputs": [
    {
     "name": "stdout",
     "output_type": "stream",
     "text": [
      "                                             Reviews  \\\n",
      "0  I feel so LUCKY to have found this used (phone...   \n",
      "1  nice phone, nice up grade from my pantach revu...   \n",
      "2                                       Very pleased   \n",
      "3  It works good but it goes slow sometimes but i...   \n",
      "4  Great phone to replace my lost phone. The only...   \n",
      "\n",
      "                                     Cleaned Reviews  \\\n",
      "0  feel lucky found used (phone us & used hard al...   \n",
      "1  nice phone, nice grade pantach revue. clean se...   \n",
      "2                                            pleased   \n",
      "3     works good goes slow sometimes good phone love   \n",
      "4  great phone replace lost phone. thing volume b...   \n",
      "\n",
      "                                  Lemmatized Reviews  \n",
      "0  feel lucky found used (phone u & used hard all...  \n",
      "1  nice phone, nice grade pantach revue. clean se...  \n",
      "2                                            pleased  \n",
      "3        work good go slow sometimes good phone love  \n",
      "4  great phone replace lost phone. thing volume b...  \n"
     ]
    }
   ],
   "source": [
    "from nltk.stem import WordNetLemmatizer\n",
    "\n",
    "# Initialize the lemmatizer\n",
    "lemmatizer = WordNetLemmatizer()\n",
    "\n",
    "# Lemmatize each review (in the 'Cleaned Reviews' column)\n",
    "df['Lemmatized Reviews'] = df['Cleaned Reviews'].apply(\n",
    "    lambda x: ' '.join([lemmatizer.lemmatize(word) for word in x.split()])\n",
    ")\n",
    "\n",
    "# Display the first few rows to check the result\n",
    "print(df[['Reviews', 'Cleaned Reviews', 'Lemmatized Reviews']].head())"
   ]
  },
  {
   "cell_type": "markdown",
   "id": "f40bde87-09e6-4050-aae9-331ac60af295",
   "metadata": {},
   "source": [
    "## Vectorization (TF-IDF)"
   ]
  },
  {
   "cell_type": "code",
   "execution_count": 17,
   "id": "432f6ea6-9319-4eac-a107-f7de1040ae2e",
   "metadata": {},
   "outputs": [
    {
     "name": "stdout",
     "output_type": "stream",
     "text": [
      "(413840, 1000)\n"
     ]
    }
   ],
   "source": [
    "from sklearn.feature_extraction.text import TfidfVectorizer\n",
    "vectorizer = TfidfVectorizer(ngram_range=(1, 2), max_features=1000, stop_words='english')\n",
    "X_tfidf = vectorizer.fit_transform(df['Lemmatized Reviews'])\n",
    "print(X_tfidf.shape)"
   ]
  },
  {
   "cell_type": "code",
   "execution_count": 18,
   "id": "296279c3-e0c9-4554-8d26-748b88fadd75",
   "metadata": {},
   "outputs": [
    {
     "name": "stdout",
     "output_type": "stream",
     "text": [
      "                                  Lemmatized Reviews sentiment\n",
      "0  feel lucky found used (phone u & used hard all...  Positive\n",
      "1  nice phone, nice grade pantach revue. clean se...  Positive\n",
      "2                                            pleased  Positive\n",
      "3        work good go slow sometimes good phone love  Positive\n",
      "4  great phone replace lost phone. thing volume b...  Positive\n",
      "5  already phone problems... know stated used, da...  Positive\n",
      "6  charging port loose. got soldered in. needed n...  Positive\n",
      "7  phone look good stay charged, buy new battery....  Positive\n",
      "8  originally using samsung s2 galaxy sprint want...  Positive\n",
      "9  battery life great. responsive touch. issue so...  Positive\n"
     ]
    }
   ],
   "source": [
    "# Assuming you have a cleaned/reviewed DataFrame with review texts\n",
    "from textblob import TextBlob\n",
    "\n",
    "# Function to assign sentiment based on the polarity of the review\n",
    "def assign_sentiment(review):\n",
    "    blob = TextBlob(review)\n",
    "    if blob.sentiment.polarity > 0:\n",
    "        return 'Positive'\n",
    "    elif blob.sentiment.polarity == 0:\n",
    "        return 'Neutral'\n",
    "    else:\n",
    "        return 'Negative'\n",
    "\n",
    "# Apply the function to the 'Reviews' column to create a 'sentiment' column\n",
    "df['sentiment'] = df['Lemmatized Reviews'].apply(assign_sentiment)\n",
    "\n",
    "# Check if the 'sentiment' column is correctly created\n",
    "print(df[['Lemmatized Reviews', 'sentiment']].head(10))\n"
   ]
  },
  {
   "cell_type": "markdown",
   "id": "eebef4d0-d79c-44a3-94af-863b75ced805",
   "metadata": {},
   "source": [
    "### print(df.columns)"
   ]
  },
  {
   "cell_type": "markdown",
   "id": "49ebb500-da6b-419b-a5ca-7d41451a68f0",
   "metadata": {},
   "source": [
    "### Plotting based on sentiment"
   ]
  },
  {
   "cell_type": "code",
   "execution_count": 20,
   "id": "dd685349-27cc-4ecc-8e87-89c19c190f72",
   "metadata": {},
   "outputs": [
    {
     "data": {
      "text/plain": [
       "<AxesSubplot:xlabel='sentiment'>"
      ]
     },
     "execution_count": 20,
     "metadata": {},
     "output_type": "execute_result"
    },
    {
     "data": {
      "image/png": "[encoded data removed]",
      "text/plain": [
       "<Figure size 640x480 with 1 Axes>"
      ]
     },
     "metadata": {},
     "output_type": "display_data"
    }
   ],
   "source": [
    "import matplotlib.pyplot as plt\n",
    "df['sentiment'].value_counts().sort_index().plot.bar(color=['red', 'blue', 'green'])"
   ]
  },
  {
   "cell_type": "markdown",
   "id": "85160b57-0c29-4064-a82e-dc1278b56ec9",
   "metadata": {},
   "source": [
    "### Model Selection and Training (SVM & Naive Bayes)"
   ]
  },
  {
   "cell_type": "markdown",
   "id": "27bfa3fb-ecb5-4f01-9531-5595534d3fae",
   "metadata": {},
   "source": [
    "#### a. Train-Test Split"
   ]
  },
  {
   "cell_type": "code",
   "execution_count": 21,
   "id": "9716f2a6-bc07-4a8e-aef5-aac154338a61",
   "metadata": {},
   "outputs": [
    {
     "name": "stdout",
     "output_type": "stream",
     "text": [
      "Training set shape: (33107, 1000), Test set shape: (8277, 1000)\n"
     ]
    }
   ],
   "source": [
    "from sklearn.model_selection import train_test_split\n",
    "df_small = df.sample(frac=0.1, random_state=42)\n",
    "X = vectorizer.transform(df_small['Lemmatized Reviews'])  # Features: Reviews text (input data)\n",
    "y = df_small['sentiment'] \n",
    "# Split the dataset into training and testing sets (80% training, 20% testing)\n",
    "X_train, X_test, y_train, y_test = train_test_split(X, y, test_size=0.2, random_state=42)\n",
    "# Print the shape of the training and test datasets\n",
    "print(f\"Training set shape: {X_train.shape}, Test set shape: {X_test.shape}\")"
   ]
  },
  {
   "cell_type": "markdown",
   "id": "245642e6-cbf8-4019-bc05-7f588c8ab724",
   "metadata": {},
   "source": [
    "#### c. Naive Bayes Classifier."
   ]
  },
  {
   "cell_type": "code",
   "execution_count": 22,
   "id": "2a74dd5d-f9e7-48f2-8d69-87bf622a2c65",
   "metadata": {},
   "outputs": [
    {
     "name": "stdout",
     "output_type": "stream",
     "text": [
      "Naive Bayes Classifier Performance:\n",
      "              precision    recall  f1-score   support\n",
      "\n",
      "    Negative       0.80      0.28      0.42       874\n",
      "     Neutral       0.88      0.34      0.49      1260\n",
      "    Positive       0.81      0.99      0.89      6143\n",
      "\n",
      "    accuracy                           0.81      8277\n",
      "   macro avg       0.83      0.54      0.60      8277\n",
      "weighted avg       0.82      0.81      0.78      8277\n",
      "\n",
      "Confusion Matrix for Naive Bayes:\n",
      " [[ 246   17  611]\n",
      " [  15  434  811]\n",
      " [  47   44 6052]]\n"
     ]
    }
   ],
   "source": [
    "import pandas as pd\n",
    "from sklearn.model_selection import train_test_split\n",
    "from sklearn.feature_extraction.text import TfidfVectorizer\n",
    "from sklearn.naive_bayes import MultinomialNB\n",
    "from sklearn.metrics import classification_report\n",
    "from sklearn.metrics import confusion_matrix\n",
    "\n",
    "\n",
    "# Assuming 'df' is the DataFrame containing the data\n",
    "# Use only a subset of the data for faster testing (10% of the data)\n",
    "df_small = df.sample(frac=0.1, random_state=42)\n",
    "\n",
    "# Vectorizing the text data using the smaller subset\n",
    "vectorizer = TfidfVectorizer(ngram_range=(1, 2), max_features=1000, stop_words='english')\n",
    "X_tfidf = vectorizer.fit_transform(df['Lemmatized Reviews'])\n",
    "\n",
    "X_tfidf_small = vectorizer.fit_transform(df_small['Reviews'])  # Convert text to features\n",
    "\n",
    "# Split the dataset into training and test sets using the same smaller dataset\n",
    "X_train, X_test, y_train, y_test = train_test_split(X_tfidf_small, df_small['sentiment'], test_size=0.2, random_state=42)\n",
    "\n",
    "# Initialize the Naive Bayes classifier\n",
    "nbc_model = MultinomialNB()\n",
    "\n",
    "# Train the Naive Bayes model\n",
    "nbc_model.fit(X_train, y_train)\n",
    "\n",
    "# Predict on the test set\n",
    "y_pred_nbc = nbc_model.predict(X_test)\n",
    "\n",
    "# Evaluate the performance of the Naive Bayes model\n",
    "print(\"Naive Bayes Classifier Performance:\")\n",
    "print(classification_report(y_test, y_pred_nbc))\n",
    "\n",
    "\n",
    "# Confusion Matrix for Naive Bayes\n",
    "print(\"Confusion Matrix for Naive Bayes:\\n\", confusion_matrix(y_test, y_pred_nbc))"
   ]
  },
  {
   "cell_type": "markdown",
   "id": "5176e650-7b0d-4704-92de-28ed941a9782",
   "metadata": {},
   "source": [
    "#### b. Support Vector Machine (SVM) Classifier"
   ]
  },
  {
   "cell_type": "code",
   "execution_count": 23,
   "id": "28c1df9c-5b3a-4ec3-a6d1-efe7e6c5996b",
   "metadata": {},
   "outputs": [
    {
     "name": "stdout",
     "output_type": "stream",
     "text": [
      "SVM Classifier Performance:\n",
      "              precision    recall  f1-score   support\n",
      "\n",
      "    Negative       0.89      0.75      0.82       874\n",
      "     Neutral       0.89      0.93      0.91      1260\n",
      "    Positive       0.96      0.97      0.97      6143\n",
      "\n",
      "    accuracy                           0.94      8277\n",
      "   macro avg       0.91      0.88      0.90      8277\n",
      "weighted avg       0.94      0.94      0.94      8277\n",
      "\n",
      "Confusion Matrix for SVM:\n",
      " [[ 657   42  175]\n",
      " [  17 1168   75]\n",
      " [  61  106 5976]]\n"
     ]
    }
   ],
   "source": [
    "import pandas as pd\n",
    "from sklearn.model_selection import train_test_split\n",
    "from sklearn.feature_extraction.text import TfidfVectorizer\n",
    "from sklearn.svm import SVC\n",
    "from sklearn.metrics import classification_report\n",
    "\n",
    "# Assuming 'df' is the DataFrame containing the data\n",
    "# Use only a subset of the data for faster testing (10% of the data)\n",
    "df_small = df.sample(frac=0.1, random_state=42)\n",
    "\n",
    "# Vectorizing the text data using the smaller subset\n",
    "vectorizer = TfidfVectorizer(ngram_range=(1, 2), max_features=3000, stop_words='english')\n",
    "X_tfidf_small = vectorizer.fit_transform(df_small['Lemmatized Reviews'])  # Convert text to features\n",
    "\n",
    "# Split the dataset into training and test sets using the same smaller dataset\n",
    "X_train, X_test, y_train, y_test = train_test_split(X_tfidf_small, df_small['sentiment'], test_size=0.2, random_state=42)\n",
    "\n",
    "# Initialize the SVM classifier with a linear kernel\n",
    "svm_model = SVC(kernel='linear')\n",
    "\n",
    "# Train the SVM model\n",
    "svm_model.fit(X_train, y_train)\n",
    "\n",
    "# Predict on the test set\n",
    "y_pred_svm = svm_model.predict(X_test)\n",
    "\n",
    "# Evaluate the performance of the SVM model\n",
    "print(\"SVM Classifier Performance:\")\n",
    "print(classification_report(y_test, y_pred_svm))\n",
    "print(\"Confusion Matrix for SVM:\\n\", confusion_matrix(y_test, y_pred_svm))"
   ]
  },
  {
   "cell_type": "markdown",
   "id": "b01fc0c0-e9dc-4fdb-a155-4484368c0cc3",
   "metadata": {},
   "source": [
    "#### Prediction of the SVM Model"
   ]
  },
  {
   "cell_type": "code",
   "execution_count": 28,
   "id": "2305dcc2-e211-434a-b779-08878b7f6707",
   "metadata": {},
   "outputs": [
    {
     "name": "stdout",
     "output_type": "stream",
     "text": [
      "Prediction for 'The noise cancellation is almost non-existent, making them unsuitable for noisy environments.': Neutral\n"
     ]
    }
   ],
   "source": [
    "def predict_sentiment(review):\n",
    "    # Transform the review text into the same feature format used for training\n",
    "    review_tfidf = vectorizer.transform([review])  # Convert the review into numerical features\n",
    "    sentiment = svm_model.predict(review_tfidf)  # Make prediction\n",
    "    return sentiment[0]  # Return the prediction (first element)\n",
    "\n",
    "# Example review for prediction\n",
    "review = \"The noise cancellation is almost non-existent, making them unsuitable for noisy environments.\"  # You can change this to any review you want\n",
    "prediction = predict_sentiment(review)\n",
    "\n",
    "print(f\"Prediction for '{review}': {prediction}\")"
   ]
  },
  {
   "cell_type": "code",
   "execution_count": 25,
   "id": "45b24afc-f6d7-4c5b-8845-422be815b10e",
   "metadata": {},
   "outputs": [
    {
     "name": "stdout",
     "output_type": "stream",
     "text": [
      "Sentiment model and vectorizer saved successfully!\n"
     ]
    }
   ],
   "source": [
    "import pickle\n",
    "with open(\"sentiment_analyser.pkl\", \"wb\") as model_file:\n",
    "    pickle.dump(svm_model, model_file)\n",
    "\n",
    "# Save the vectorizer\n",
    "with open(\"vectorizer.pkl\", \"wb\") as vec_file:\n",
    "    pickle.dump(vectorizer, vec_file)\n",
    "\n",
    "print(\"Sentiment model and vectorizer saved successfully!\")"
   ]
  },
  {
   "cell_type": "code",
   "execution_count": 26,
   "id": "944860d9-fcfc-4e0f-bf08-aecd1e628772",
   "metadata": {},
   "outputs": [],
   "source": [
    "def predict_sentiment_review(reviews, svm_model, vectorizer):\n",
    "    # Process the reviews and vectorize them\n",
    "    review_vector = vectorizer.transform(reviews)\n",
    "    prediction = svm_model.predict(review_vector)\n",
    "    \n",
    "    # Return the sentiment based on prediction (e.g., 1=positive, -1=negative, 0=neutral)\n",
    "    if prediction == 2:\n",
    "        return \"Buy\"\n",
    "    elif prediction == 0:\n",
    "        return \"Don't Buy\"\n",
    "    else:\n",
    "        return \"Neutral\"\n"
   ]
  }
 ],
 "metadata": {
  "kernelspec": {
   "display_name": "Python 3 (ipykernel)",
   "language": "python",
   "name": "python3"
  },
  "language_info": {
   "codemirror_mode": {
    "name": "ipython",
    "version": 3
   },
   "file_extension": ".py",
   "mimetype": "text/x-python",
   "name": "python",
   "nbconvert_exporter": "python",
   "pygments_lexer": "ipython3",
   "version": "3.8.20"
  }
 },
 "nbformat": 4,
 "nbformat_minor": 5
}
